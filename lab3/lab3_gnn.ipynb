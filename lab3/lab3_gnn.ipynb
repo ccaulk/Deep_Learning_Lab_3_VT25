{
 "cells": [
  {
   "cell_type": "markdown",
   "metadata": {
    "id": "zTP07zfHiv89",
    "tags": []
   },
   "source": [
    "# Deep learning lab 3: Graph Neural Networks\n",
    "\n",
    "This material is largly based on the GNN lab first designed for the Deep Learning course at Linköping University developed by Filip Ekström Kelvinius and Fredrik Lindsten.\n",
    "\n",
    "The aim with this lab is that you get to familiarize yourself a bit more with graph neural networks (GNNs). You will do some theoretical work, using the message passing neural network-framework presented in the lectures, but mostly you will put this into practice and implement a GNN using [PyTorch Geometric](https://pytorch-geometric.readthedocs.io/en/latest/#) (PyG), which is a library built on top of PyTorch for working with GNNs of all kinds. "
   ]
  },
  {
   "cell_type": "markdown",
   "metadata": {
    "id": "JECHThDTkEjx",
    "tags": []
   },
   "source": [
    "## Install and load required packages\n",
    "\n",
    "Note that for pytorch_geometric, you should have the pytorch version 2.5.1 installed for the best experience of this lab. For this lab we recommend using GPU acceleration to enable a fast training for which you can use for example google colab."
   ]
  },
  {
   "cell_type": "markdown",
   "metadata": {
    "tags": []
   },
   "source": [
    "**Running on google colab**: If you are running this notebook on google colab, you need to upload the additionally provided python scipts from the zip file in order to run the code provided within them that this notebook relies on. Therefore, after you have connected to a runtime, go to the files tab on the left-hand side menu of colab and press the buttom to upload the two provided python scripts into the session stoarge. Note that you need to reupload the files if you restart the session as they are not permanantly stored."
   ]
  },
  {
   "cell_type": "code",
   "execution_count": 1,
   "metadata": {
    "editable": true,
    "slideshow": {
     "slide_type": ""
    },
    "tags": []
   },
   "outputs": [
    {
     "name": "stdout",
     "output_type": "stream",
     "text": [
      "Looking in links: https://data.pyg.org/whl/torch-2.5.1+cu118.html\n",
      "Collecting pyg_lib\n",
      "  Downloading https://data.pyg.org/whl/torch-2.5.0%2Bcu118/pyg_lib-0.4.0%2Bpt25cu118-cp312-cp312-win_amd64.whl (1.7 MB)\n",
      "     ---------------------------------------- 0.0/1.7 MB ? eta -:--:--\n",
      "     ---------------------------------------- 0.0/1.7 MB ? eta -:--:--\n",
      "     ---------------------------------------- 0.0/1.7 MB ? eta -:--:--\n",
      "     ---------------------------------------- 0.0/1.7 MB ? eta -:--:--\n",
      "      --------------------------------------- 0.0/1.7 MB 196.9 kB/s eta 0:00:09\n",
      "      --------------------------------------- 0.0/1.7 MB 196.9 kB/s eta 0:00:09\n",
      "      --------------------------------------- 0.0/1.7 MB 196.9 kB/s eta 0:00:09\n",
      "     -- ------------------------------------- 0.1/1.7 MB 295.4 kB/s eta 0:00:06\n",
      "     -- ------------------------------------- 0.1/1.7 MB 295.4 kB/s eta 0:00:06\n",
      "     -- ------------------------------------- 0.1/1.7 MB 295.4 kB/s eta 0:00:06\n",
      "     --- ------------------------------------ 0.1/1.7 MB 293.9 kB/s eta 0:00:06\n",
      "     ---- ----------------------------------- 0.2/1.7 MB 409.6 kB/s eta 0:00:04\n",
      "     ---- ----------------------------------- 0.2/1.7 MB 409.6 kB/s eta 0:00:04\n",
      "     ---- ----------------------------------- 0.2/1.7 MB 409.6 kB/s eta 0:00:04\n",
      "     ---------- ----------------------------- 0.5/1.7 MB 686.9 kB/s eta 0:00:02\n",
      "     ---------- ----------------------------- 0.5/1.7 MB 686.8 kB/s eta 0:00:02\n",
      "     ---------- ----------------------------- 0.5/1.7 MB 686.8 kB/s eta 0:00:02\n",
      "     --------------- ------------------------ 0.7/1.7 MB 852.2 kB/s eta 0:00:02\n",
      "     ------------------- -------------------- 0.9/1.7 MB 1.0 MB/s eta 0:00:01\n",
      "     --------------------- ------------------ 0.9/1.7 MB 1.1 MB/s eta 0:00:01\n",
      "     --------------------- ------------------ 0.9/1.7 MB 1.1 MB/s eta 0:00:01\n",
      "     ------------------------------ --------- 1.3/1.7 MB 1.3 MB/s eta 0:00:01\n",
      "     ------------------------------------- -- 1.6/1.7 MB 1.6 MB/s eta 0:00:01\n",
      "     ---------------------------------------- 1.7/1.7 MB 1.6 MB/s eta 0:00:00\n",
      "Collecting torch_scatter\n",
      "  Downloading https://data.pyg.org/whl/torch-2.5.0%2Bcu118/torch_scatter-2.1.2%2Bpt25cu118-cp312-cp312-win_amd64.whl (3.5 MB)\n",
      "     ---------------------------------------- 0.0/3.5 MB ? eta -:--:--\n",
      "     ---------------------------------------- 0.0/3.5 MB ? eta -:--:--\n",
      "     ---------------------------------------- 0.0/3.5 MB ? eta -:--:--\n",
      "     ---------------------------------------- 0.0/3.5 MB ? eta -:--:--\n",
      "     ---------------------------------------- 0.0/3.5 MB 196.9 kB/s eta 0:00:18\n",
      "     ---------------------------------------- 0.0/3.5 MB 196.9 kB/s eta 0:00:18\n",
      "     ---------------------------------------- 0.0/3.5 MB 196.9 kB/s eta 0:00:18\n",
      "     - -------------------------------------- 0.1/3.5 MB 295.4 kB/s eta 0:00:12\n",
      "     - -------------------------------------- 0.1/3.5 MB 295.4 kB/s eta 0:00:12\n",
      "     - -------------------------------------- 0.1/3.5 MB 295.4 kB/s eta 0:00:12\n",
      "     - -------------------------------------- 0.1/3.5 MB 295.4 kB/s eta 0:00:12\n",
      "     -- ------------------------------------- 0.2/3.5 MB 423.1 kB/s eta 0:00:08\n",
      "     -- ------------------------------------- 0.2/3.5 MB 423.1 kB/s eta 0:00:08\n",
      "     -- ------------------------------------- 0.2/3.5 MB 423.1 kB/s eta 0:00:08\n",
      "     ----- ---------------------------------- 0.5/3.5 MB 704.0 kB/s eta 0:00:05\n",
      "     ----- ---------------------------------- 0.5/3.5 MB 704.0 kB/s eta 0:00:05\n",
      "     ----- ---------------------------------- 0.5/3.5 MB 704.0 kB/s eta 0:00:05\n",
      "     ------- -------------------------------- 0.7/3.5 MB 826.0 kB/s eta 0:00:04\n",
      "     ---------- ----------------------------- 0.9/3.5 MB 1.1 MB/s eta 0:00:03\n",
      "     ---------- ----------------------------- 0.9/3.5 MB 1.1 MB/s eta 0:00:03\n",
      "     ----------- ---------------------------- 1.0/3.5 MB 1.1 MB/s eta 0:00:03\n",
      "     --------------- ------------------------ 1.3/3.5 MB 1.4 MB/s eta 0:00:02\n",
      "     ------------------ --------------------- 1.6/3.5 MB 1.6 MB/s eta 0:00:02\n",
      "     ---------------------- ----------------- 1.9/3.5 MB 1.8 MB/s eta 0:00:01\n",
      "     ------------------------- -------------- 2.2/3.5 MB 2.0 MB/s eta 0:00:01\n",
      "     ------------------------------ --------- 2.6/3.5 MB 2.2 MB/s eta 0:00:01\n",
      "     -------------------------------- ------- 2.8/3.5 MB 2.4 MB/s eta 0:00:01\n",
      "     ----------------------------------- ---- 3.1/3.5 MB 2.5 MB/s eta 0:00:01\n",
      "     ---------------------------------------  3.5/3.5 MB 2.7 MB/s eta 0:00:01\n",
      "     ---------------------------------------- 3.5/3.5 MB 2.6 MB/s eta 0:00:00\n",
      "Collecting torch_sparse\n",
      "  Downloading https://data.pyg.org/whl/torch-2.5.0%2Bcu118/torch_sparse-0.6.18%2Bpt25cu118-cp312-cp312-win_amd64.whl (2.1 MB)\n",
      "     ---------------------------------------- 0.0/2.1 MB ? eta -:--:--\n",
      "     ---------------------------------------- 0.0/2.1 MB ? eta -:--:--\n",
      "     ---------------------------------------- 0.0/2.1 MB ? eta -:--:--\n",
      "     ---------------------------------------- 0.0/2.1 MB ? eta -:--:--\n",
      "      --------------------------------------- 0.0/2.1 MB 195.7 kB/s eta 0:00:11\n",
      "      --------------------------------------- 0.0/2.1 MB 195.7 kB/s eta 0:00:11\n",
      "      --------------------------------------- 0.0/2.1 MB 195.7 kB/s eta 0:00:11\n",
      "     - -------------------------------------- 0.1/2.1 MB 294.4 kB/s eta 0:00:07\n",
      "     - -------------------------------------- 0.1/2.1 MB 294.4 kB/s eta 0:00:07\n",
      "     - -------------------------------------- 0.1/2.1 MB 294.4 kB/s eta 0:00:07\n",
      "     --- ------------------------------------ 0.2/2.1 MB 371.2 kB/s eta 0:00:06\n",
      "     ---- ----------------------------------- 0.2/2.1 MB 436.7 kB/s eta 0:00:05\n",
      "     ---- ----------------------------------- 0.2/2.1 MB 436.7 kB/s eta 0:00:05\n",
      "     ---- ----------------------------------- 0.2/2.1 MB 362.0 kB/s eta 0:00:06\n",
      "     -------- ------------------------------- 0.5/2.1 MB 720.9 kB/s eta 0:00:03\n",
      "     -------- ------------------------------- 0.5/2.1 MB 720.9 kB/s eta 0:00:03\n",
      "     -------- ------------------------------- 0.5/2.1 MB 720.9 kB/s eta 0:00:03\n",
      "     ------------ --------------------------- 0.7/2.1 MB 838.1 kB/s eta 0:00:02\n",
      "     ------------------ --------------------- 0.9/2.1 MB 1.1 MB/s eta 0:00:02\n",
      "     ------------------ --------------------- 0.9/2.1 MB 1.1 MB/s eta 0:00:02\n",
      "     -------------------- ------------------- 1.1/2.1 MB 1.2 MB/s eta 0:00:01\n",
      "     ---------------------------- ----------- 1.5/2.1 MB 1.5 MB/s eta 0:00:01\n",
      "     ---------------------------------- ----- 1.8/2.1 MB 1.8 MB/s eta 0:00:01\n",
      "     ---------------------------------------  2.1/2.1 MB 1.9 MB/s eta 0:00:01\n",
      "     ---------------------------------------- 2.1/2.1 MB 1.9 MB/s eta 0:00:00\n",
      "Collecting torch_cluster\n",
      "  Downloading https://data.pyg.org/whl/torch-2.5.0%2Bcu118/torch_cluster-1.6.3%2Bpt25cu118-cp312-cp312-win_amd64.whl (1.6 MB)\n",
      "     ---------------------------------------- 0.0/1.6 MB ? eta -:--:--\n",
      "     ---- ----------------------------------- 0.2/1.6 MB 5.3 MB/s eta 0:00:01\n",
      "     -------------- ------------------------- 0.6/1.6 MB 7.2 MB/s eta 0:00:01\n",
      "     ------------------------ --------------- 1.0/1.6 MB 7.7 MB/s eta 0:00:01\n",
      "     ----------------------------------- ---- 1.4/1.6 MB 8.2 MB/s eta 0:00:01\n",
      "     ---------------------------------------- 1.6/1.6 MB 7.8 MB/s eta 0:00:00\n",
      "Collecting torch_spline_conv\n",
      "  Downloading https://data.pyg.org/whl/torch-2.5.0%2Bcu118/torch_spline_conv-1.2.2%2Bpt25cu118-cp312-cp312-win_amd64.whl (514 kB)\n",
      "     ---------------------------------------- 0.0/514.4 kB ? eta -:--:--\n",
      "      --------------------------------------- 10.2/514.4 kB ? eta -:--:--\n",
      "      --------------------------------------- 10.2/514.4 kB ? eta -:--:--\n",
      "      --------------------------------------- 10.2/514.4 kB ? eta -:--:--\n",
      "     -- ---------------------------------- 41.0/514.4 kB 217.9 kB/s eta 0:00:03\n",
      "     -- ---------------------------------- 41.0/514.4 kB 217.9 kB/s eta 0:00:03\n",
      "     -- ---------------------------------- 41.0/514.4 kB 217.9 kB/s eta 0:00:03\n",
      "     ------- ---------------------------- 102.4/514.4 kB 310.3 kB/s eta 0:00:02\n",
      "     ------- ---------------------------- 102.4/514.4 kB 310.3 kB/s eta 0:00:02\n",
      "     ------- ---------------------------- 102.4/514.4 kB 310.3 kB/s eta 0:00:02\n",
      "     --------------- -------------------- 215.0/514.4 kB 467.6 kB/s eta 0:00:01\n",
      "     --------------- -------------------- 215.0/514.4 kB 467.6 kB/s eta 0:00:01\n",
      "     --------------- -------------------- 215.0/514.4 kB 467.6 kB/s eta 0:00:01\n",
      "     --------------- -------------------- 215.0/514.4 kB 467.6 kB/s eta 0:00:01\n",
      "     -------------------------------- --- 460.8/514.4 kB 738.6 kB/s eta 0:00:01\n",
      "     -------------------------------- --- 460.8/514.4 kB 738.6 kB/s eta 0:00:01\n",
      "     -------------------------------- --- 460.8/514.4 kB 738.6 kB/s eta 0:00:01\n",
      "     ------------------------------------ 514.4/514.4 kB 672.2 kB/s eta 0:00:00\n",
      "Requirement already satisfied: scipy in c:\\users\\caleb\\anaconda3\\lib\\site-packages (from torch_sparse) (1.13.1)\n",
      "Requirement already satisfied: numpy<2.3,>=1.22.4 in c:\\users\\caleb\\anaconda3\\lib\\site-packages (from scipy->torch_sparse) (1.26.4)\n",
      "Installing collected packages: torch_spline_conv, torch_scatter, pyg_lib, torch_sparse, torch_cluster\n",
      "Successfully installed pyg_lib-0.4.0+pt25cu118 torch_cluster-1.6.3+pt25cu118 torch_scatter-2.1.2+pt25cu118 torch_sparse-0.6.18+pt25cu118 torch_spline_conv-1.2.2+pt25cu118\n",
      "Requirement already satisfied: ase in c:\\users\\caleb\\anaconda3\\lib\\site-packages (3.24.0)\n",
      "Requirement already satisfied: numpy>=1.19.5 in c:\\users\\caleb\\anaconda3\\lib\\site-packages (from ase) (1.26.4)\n",
      "Requirement already satisfied: scipy>=1.6.0 in c:\\users\\caleb\\anaconda3\\lib\\site-packages (from ase) (1.13.1)\n",
      "Requirement already satisfied: matplotlib>=3.3.4 in c:\\users\\caleb\\anaconda3\\lib\\site-packages (from ase) (3.8.4)\n",
      "Requirement already satisfied: contourpy>=1.0.1 in c:\\users\\caleb\\anaconda3\\lib\\site-packages (from matplotlib>=3.3.4->ase) (1.2.0)\n",
      "Requirement already satisfied: cycler>=0.10 in c:\\users\\caleb\\anaconda3\\lib\\site-packages (from matplotlib>=3.3.4->ase) (0.11.0)\n",
      "Requirement already satisfied: fonttools>=4.22.0 in c:\\users\\caleb\\anaconda3\\lib\\site-packages (from matplotlib>=3.3.4->ase) (4.51.0)\n",
      "Requirement already satisfied: kiwisolver>=1.3.1 in c:\\users\\caleb\\anaconda3\\lib\\site-packages (from matplotlib>=3.3.4->ase) (1.4.4)\n",
      "Requirement already satisfied: packaging>=20.0 in c:\\users\\caleb\\anaconda3\\lib\\site-packages (from matplotlib>=3.3.4->ase) (23.2)\n",
      "Requirement already satisfied: pillow>=8 in c:\\users\\caleb\\anaconda3\\lib\\site-packages (from matplotlib>=3.3.4->ase) (10.3.0)\n",
      "Requirement already satisfied: pyparsing>=2.3.1 in c:\\users\\caleb\\anaconda3\\lib\\site-packages (from matplotlib>=3.3.4->ase) (3.0.9)\n",
      "Requirement already satisfied: python-dateutil>=2.7 in c:\\users\\caleb\\anaconda3\\lib\\site-packages (from matplotlib>=3.3.4->ase) (2.9.0.post0)\n",
      "Requirement already satisfied: six>=1.5 in c:\\users\\caleb\\anaconda3\\lib\\site-packages (from python-dateutil>=2.7->matplotlib>=3.3.4->ase) (1.16.0)\n"
     ]
    }
   ],
   "source": [
    "# pytorch geometric dependencies:\n",
    "! pip install -q git+https://github.com/pyg-team/pytorch_geometric.git\n",
    "\n",
    "# for gpu installation use this line:\n",
    "! pip install pyg_lib torch_scatter torch_sparse torch_cluster torch_spline_conv -f https://data.pyg.org/whl/torch-2.5.1+cu118.html\n",
    "# use the following line instead when running on a cpu only machine:\n",
    "# ! pip install pyg_lib torch_scatter torch_sparse torch_cluster torch_spline_conv -f https://data.pyg.org/whl/torch-2.5.0+cpu.html\n",
    "\n",
    "# dependencies for the molecular data\n",
    "! pip install ase"
   ]
  },
  {
   "cell_type": "code",
   "execution_count": 1,
   "metadata": {},
   "outputs": [
    {
     "name": "stdout",
     "output_type": "stream",
     "text": [
      "Wed Mar  5 12:10:57 2025       \n",
      "+-----------------------------------------------------------------------------------------+\n",
      "| NVIDIA-SMI 572.16                 Driver Version: 572.16         CUDA Version: 12.8     |\n",
      "|-----------------------------------------+------------------------+----------------------+\n",
      "| GPU  Name                  Driver-Model | Bus-Id          Disp.A | Volatile Uncorr. ECC |\n",
      "| Fan  Temp   Perf          Pwr:Usage/Cap |           Memory-Usage | GPU-Util  Compute M. |\n",
      "|                                         |                        |               MIG M. |\n",
      "|=========================================+========================+======================|\n",
      "|   0  NVIDIA GeForce RTX 4050 ...  WDDM  |   00000000:01:00.0 Off |                  N/A |\n",
      "| N/A   66C    P0             12W /   80W |       0MiB /   6141MiB |      0%      Default |\n",
      "|                                         |                        |                  N/A |\n",
      "+-----------------------------------------+------------------------+----------------------+\n",
      "                                                                                         \n",
      "+-----------------------------------------------------------------------------------------+\n",
      "| Processes:                                                                              |\n",
      "|  GPU   GI   CI              PID   Type   Process name                        GPU Memory |\n",
      "|        ID   ID                                                               Usage      |\n",
      "|=========================================================================================|\n",
      "|  No running processes found                                                             |\n",
      "+-----------------------------------------------------------------------------------------+\n"
     ]
    }
   ],
   "source": [
    "! nvidia-smi"
   ]
  },
  {
   "cell_type": "code",
   "execution_count": 2,
   "metadata": {},
   "outputs": [
    {
     "data": {
      "text/plain": [
       "'2.5.1+cu118'"
      ]
     },
     "execution_count": 2,
     "metadata": {},
     "output_type": "execute_result"
    }
   ],
   "source": [
    "import torch\n",
    "torch.__version__"
   ]
  },
  {
   "cell_type": "code",
   "execution_count": 3,
   "metadata": {
    "editable": true,
    "id": "fhUm-VDZkJkg",
    "slideshow": {
     "slide_type": ""
    },
    "tags": []
   },
   "outputs": [],
   "source": [
    "import torch\n",
    "import torch_geometric as pyg\n",
    "\n",
    "import numpy as np\n",
    "import matplotlib.pyplot as plt\n",
    "\n",
    "from scipy.spatial.transform import Rotation\n",
    "\n",
    "# some helper functions for the lab\n",
    "from utils import load_toy_data, generate_otf_graph\n",
    "from coll_data import get_coll_loaders, batch_to_atoms\n",
    "\n",
    "import ase"
   ]
  },
  {
   "cell_type": "markdown",
   "metadata": {
    "editable": true,
    "slideshow": {
     "slide_type": ""
    },
    "tags": []
   },
   "source": [
    "## Preliminaries: Data and batching in PyG"
   ]
  },
  {
   "cell_type": "markdown",
   "metadata": {
    "editable": true,
    "id": "z7Q8KTJ2kKNA",
    "slideshow": {
     "slide_type": ""
    },
    "tags": []
   },
   "source": [
    "PyG is built on top of PyTorch, and in that sense is very similar to what you have already seen. However, graphs are structured a bit differently compared to, e.g., images. For example, the sizes of different samples can be very different, and a graph consists of different parts like node features, edges, and edge features and unlike for text sequences there is no clear way to truncate the data in order to obtain samples of equal length. PyG helps keeping track and organize this using ```pyg.data.Data``` (for a single instance of a graph) and ```pyg.loader.DataLoader``` (a custom DataLoader for batching data).\n",
    "\n",
    "### PyTorch Geometric data\n",
    "First, lets take a look at two toy graphs, illustrated below. The numbers represent indices, and the colors indicate the type of the node.\n",
    "In the following, we look at some toy data and examine the internals of pytorch geometric data representation.\n",
    "\n",
    "_Note: If the image below is not showing due to your notebook enviornment, you can also manually inspect the image file contained in the zip folder that includes all the assignment material._"
   ]
  },
  {
   "cell_type": "markdown",
   "metadata": {
    "tags": []
   },
   "source": [
    "![image.png](data:image/png;base64,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)"
   ]
  },
  {
   "cell_type": "markdown",
   "metadata": {
    "editable": true,
    "slideshow": {
     "slide_type": ""
    },
    "tags": []
   },
   "source": [
    "PyG's representations of these can be loaded using ```load_toy_data()``` which returns the two graphs as ```pyg.data.Data``` objects. Try printing the contents, then answer the questions below about how the graphs are stored in the framework."
   ]
  },
  {
   "cell_type": "code",
   "execution_count": 4,
   "metadata": {
    "editable": true,
    "id": "T5nZxzgLm94a",
    "slideshow": {
     "slide_type": ""
    },
    "tags": []
   },
   "outputs": [],
   "source": [
    "# load the two toy graphs.\n",
    "data1, data2 = load_toy_data()"
   ]
  },
  {
   "cell_type": "code",
   "execution_count": 5,
   "metadata": {
    "editable": true,
    "slideshow": {
     "slide_type": ""
    },
    "tags": []
   },
   "outputs": [
    {
     "name": "stdout",
     "output_type": "stream",
     "text": [
      "data 1\n",
      "Data(x=[4, 1], edge_index=[2, 5])\n",
      "tensor([[3],\n",
      "        [2],\n",
      "        [2],\n",
      "        [1]])\n",
      "tensor([[1, 0, 3, 1, 0],\n",
      "        [0, 1, 1, 2, 3]])\n",
      "\n",
      "data 2\n",
      "Data(x=[3, 1], edge_index=[2, 3])\n",
      "tensor([[2],\n",
      "        [1],\n",
      "        [2]])\n",
      "tensor([[1, 2, 1],\n",
      "        [0, 0, 2]])\n"
     ]
    }
   ],
   "source": [
    "# look at data1 and data2 and their content to answer the question below.\n",
    "print(\"data 1\")\n",
    "print(data1)\n",
    "print(data1.x)\n",
    "print(data1.edge_index)\n",
    "\n",
    "print()\n",
    "\n",
    "print(\"data 2\")\n",
    "print(data2)\n",
    "print(data2.x)\n",
    "print(data2.edge_index)"
   ]
  },
  {
   "cell_type": "markdown",
   "metadata": {
    "id": "6pDyev_-ng9-",
    "tags": []
   },
   "source": [
    "**Question 1:** Which of ```data1``` and ```data2``` correspond to graph A and B? Include a short motivation based on the output of your code.  \n",
    "Data 1 is Toy Graph A because it has 4 nodes, and data 2 is Toy Graph B because it has 3 nodes. The numbers in the nodes tensor correspond to the type of node (i.e. red, white, or blue). The edges aslo go from the first index to the second index (i.e. [[1],[0]] goes from node at index one to the node at index 0)"
   ]
  },
  {
   "cell_type": "markdown",
   "metadata": {
    "editable": true,
    "slideshow": {
     "slide_type": ""
    },
    "tags": []
   },
   "source": [
    "### Batching\n",
    "\n",
    "Now, let's take a look at how batching works in PyG. Create a PyG dataloader with ```data1``` and ```data2``` and \n",
    "check the content of the resulting batch to answer the two questions below."
   ]
  },
  {
   "cell_type": "code",
   "execution_count": 6,
   "metadata": {
    "editable": true,
    "id": "fWXYCnu8nypl",
    "slideshow": {
     "slide_type": ""
    },
    "tags": []
   },
   "outputs": [],
   "source": [
    "# create dataloader and get the first batch.\n",
    "dataloader = pyg.loader.DataLoader([data1, data2], batch_size=2)\n",
    "data_batch = next(iter(dataloader))"
   ]
  },
  {
   "cell_type": "code",
   "execution_count": 7,
   "metadata": {
    "editable": true,
    "slideshow": {
     "slide_type": ""
    },
    "tags": []
   },
   "outputs": [
    {
     "name": "stdout",
     "output_type": "stream",
     "text": [
      "DataBatch(x=[7, 1], edge_index=[2, 8], batch=[7], ptr=[3])\n",
      "tensor([[3],\n",
      "        [2],\n",
      "        [2],\n",
      "        [1],\n",
      "        [2],\n",
      "        [1],\n",
      "        [2]])\n",
      "tensor([[1, 0, 3, 1, 0, 5, 6, 5],\n",
      "        [0, 1, 1, 2, 3, 4, 4, 6]])\n",
      "tensor([0, 0, 0, 0, 1, 1, 1])\n"
     ]
    }
   ],
   "source": [
    "# play around with data_batch\n",
    "print(data_batch)\n",
    "\n",
    "print(data_batch.x)\n",
    "print(data_batch.edge_index)\n",
    "print(data_batch.batch)"
   ]
  },
  {
   "cell_type": "markdown",
   "metadata": {
    "id": "sq5xkU5bp2R-",
    "tags": []
   },
   "source": [
    "**Question 2**: What is the purpose of the ```batch``` attribute in the ```data_batch``` object? What else is contained in the data batch?\n",
    "\n",
    "**Answer:** \n",
    "The batch attribute is meant to index the nodes and which graph they are associated with within the batch. So the first 4 indecies in this case are associated with graph A because they are all 0. This means numbers 0-3 in the ```edge_index``` are associated with graph A and the first 4 items in the ```data_batch.x``` are associated with graph A. Then indecies 4-6 are associated with graph B because they are all 1. In ``` data_graph.x``` indecies 4-6 are asscoiated with graph B and the numbers 4-6 represent nodes in the ``` edge_index``` of the batch."
   ]
  },
  {
   "cell_type": "markdown",
   "metadata": {
    "tags": []
   },
   "source": [
    "**Question 3**: What happened to ```edge_index``` when batching the two graphs? Why?\n",
    "\n",
    "**Answer**: Edge index only increased along dimension 1. Dimension 0 stayed the same, so edge index will always be a tensor of size [2,N]. This is because of the COO format. When combining the edges we only need to expand it along one dimension."
   ]
  },
  {
   "cell_type": "markdown",
   "metadata": {
    "tags": []
   },
   "source": [
    "## Preliminaries: Molecules as graphs"
   ]
  },
  {
   "cell_type": "markdown",
   "metadata": {
    "editable": true,
    "slideshow": {
     "slide_type": ""
    },
    "tags": []
   },
   "source": [
    "The dataset that you will work with is a molecular dataset, and as that probably is a new type of application for you, this section aims at giving a brief introduction to how molecules can be represented as graphs.\n",
    "\n",
    "In the lab, the task of the GNN is to predict the energy $E$ of a molecule consisting of $N$ atoms (nodes). We can describe this mathematically as\n",
    "\n",
    "$$\n",
    "\\hat{E} = GNN [ \\mathbf{Z}, \\mathbf{v} ]\n",
    "$$\n",
    "\n",
    "where the input data consists of the coordinates of each atom in the molecule $\\mathbf{Z} \\in \\mathbb{R}^{3 \\times N}$ and $\\mathbf{v} \\in \\mathbb{Z}^N$ describing the atomic number of each atom in the molecule.\n",
    "We use the one-hot encoding of the atomic number in order to design the node features of the input graph.\n",
    "Since there are 118 atoms in the atomic table, the one-hot encoded node features are stored in a matrix $\\mathbf{X}$ of size $118 \\times N$.\n",
    "The positions of the atoms are used to construct edge features such as the distance length and the direction between the individual atoms.\n",
    "We can either use the 3-D distance vector between the nodes as the edge features or the length of the distance vector as we will discuss throughout this lab.\n",
    "This leads to either $D_E = 1$ or $D_E = 3$ depending on which model we use.\n",
    "\n",
    "From the input to the GNN (consisting of $\\mathbf{Z}$ and $\\mathbf{v}$), it is rather straight forward to construct a graph: each atom correspond to a node, and we can create edges between atoms that are within a certain distance from each other. The node features could then be the type of atom, and edge features could incorporate geometric information like distance between the atoms.\n",
    "Note that in this lab we do not use additional information about the molecule such as the bonds between the individual atoms.\n",
    "\n",
    "**Question 4**: What kind of task (graph-, node-, edge-level) is the task in this lab? Is it a classification or a regression task?\n",
    "\n",
    "**Answer**: This is a graph level regression task because we want to predict the energy of the entire molecule."
   ]
  },
  {
   "cell_type": "markdown",
   "metadata": {
    "editable": true,
    "id": "kfSskGUCrJPa",
    "slideshow": {
     "slide_type": ""
    },
    "tags": []
   },
   "source": [
    "## Deriving MPNN equations (Message Passing Neural Network)\n",
    "\n",
    "There is a wide variety of different GNN layers. The choice of particular scheme depends on many factors such as the application, types of graph and scale of the model.\n",
    "PyG provides support for the message passing neural network (MPNN) framework. Therefore, it is rather straightforward to implement a GNN if you have derived the functions $m[\\cdot, \\cdot, \\cdot]$ and $u[\\cdot, \\cdot]$ from the message-passing framework.\n",
    "Each function can use additionally parameters that are learnable during the training.\n",
    "\n",
    "In this lab, you will work with a GNN called [CGCNN](https://arxiv.org/pdf/1710.10324.pdf) and which has been developed for chemistry applications. To implement this model in PyG, we will start by deriving the MPNN equations for CGCNN. In the original paper, they use the equation (compare eq. 5 in the paper with slightly different notation) to compute the output of a single layer:\n",
    "$$\n",
    "\\mathbf{h}_{k+1}^{(i)}  = \\mathbf{h}^{(i)}_{k} + \\sum_{j\\in \\text{ne}[i]} \\mathbf{a}_1 \\left[ \\mathbf{\\Omega}_k^{f}\\mathbf{z}^{(j, i)}_k + \\boldsymbol{\\beta}_k^{f} \\right] \\odot \\mathbf{a}_2\\left[ \\mathbf{\\Omega}_k^{s}\\mathbf{z}^{(j, i)}_k + \\boldsymbol{\\beta}_k^{s} \\right]\n",
    "$$\n",
    "to describe their updates to the node features $\\mathbf{h}^{(i)}$ of the corresponding node $i$ and the subscript indicates the number of the hidden layer $k$ that is used. Here, $\\mathbf{\\Omega}$ and $\\boldsymbol{\\beta}$ denote weight matrices and vectors and we  use $s$ and $f$ two differentiate between the two sets of weight matrices and bias terms. Each set parameterizes a fully-connected linear layer. The functions $\\mathbf{a}_1[\\cdot]$ and $\\mathbf{a}_2[\\cdot]$ are two different non-linear activation functions operating element-wise, $\\odot$ means element-wise multiplication, and $\\mathbf{z}^{(j, i)} = \\mathbf{h}^{(i)} \\oplus \\mathbf{h}^{(j)} \\oplus \\mathbf{e}^{(j, i)}$ is the concatenation of node and edge feature vectors.\n",
    "\n",
    "_Note that in this notebook we use $\\text{ne}[i]$ in order to denote the neighbourhood of node $i$ as done in the course book rather than $\\mathcal{N}_i$._"
   ]
  },
  {
   "cell_type": "markdown",
   "metadata": {
    "id": "bVErYRVj3grJ",
    "tags": []
   },
   "source": [
    "**Question 5**: Given the equation above, re-write this according to the general MPNN-equations from the lectures\n",
    "\n",
    "**Answer**: _You can either write the equations in latex here or present the solution to us in handwritten form._\n",
    "Slide 33\n",
    " Need to have a message, aggregate, and update step which will be implemented in the code.\n",
    "\n",
    " The message is  \n",
    " $$\n",
    "    c_j = \\mathbf{a}_1 \\left[ \\mathbf{\\Omega}_k^{f}\\mathbf{z}^{(j, i)}_k + \\boldsymbol{\\beta}_k^{f} \\right] \\odot \\mathbf{a}_2\\left[ \\mathbf{\\Omega}_k^{s}\\mathbf{z}^{(j, i)}_k + \\boldsymbol{\\beta}_k^{s}\\right].\n",
    " $$\n",
    " Where $i$ is the node we are updating and $j$ is a node connected to $i$ and the edge between $j,i$ is directed from $j$ to $i$  \n",
    " The aggregation is then the sum of all $c_j$ where $j$ is in the neighborhood of $i$  \n",
    " $$\n",
    "    d = \\sum_{j\\in \\text{ne}[i]} c_j\n",
    " $$\n",
    " The final step is to upate the current node $i$'s node features $h^{(i)}$ by adding the sum\n",
    " $$\n",
    "    \\mathbf{h}_{k+1}^{(i)}  = \\mathbf{h}^{(i)}_{k} + d\n",
    " $$"
   ]
  },
  {
   "cell_type": "markdown",
   "metadata": {
    "editable": true,
    "slideshow": {
     "slide_type": ""
    },
    "tags": []
   },
   "source": [
    "**Question 6**: How are the incoming messages aggregated in the CGCNN network?\n",
    "\n",
    "**Answer**: The incoming messages are aggregated by summing all the neighbors of $i$ that have been transformed according to the above equation"
   ]
  },
  {
   "cell_type": "markdown",
   "metadata": {
    "id": "q4PkoGv15C5x",
    "tags": []
   },
   "source": [
    "## Implementing a CGCNN layer\n",
    "Now it is time to put these equations into practice and create a CGCNN layer, using the ```MessagePassing``` class from PyG.\n",
    "\n",
    "It might help to read through the **intro** and the **part about the Messsage Passing base class** in the PyG [tutorial](https://pytorch-geometric.readthedocs.io/en/latest/notes/create_gnn.html). **Note**: the function ```MessagePassing.update()``` has according to the developers been phased out. We make the update inside ```forward``` instead, after having called ```propagate().```\n",
    "\n",
    "Then implement the equations that you derived. In the CGCNN paper, it is specified that $\\mathbf{a}_1[\\cdot] = \\text{sigmoid}[\\cdot]$ to implement a _gating_ mechanism. For $\\mathbf{a}_2[\\cdot]$, we can use $\\text{softplus}[\\cdot]$ for the activation functions.\n",
    "\n",
    "**Task 1**: Implement the derived message passing equations in the CGCNN layer in the Message Passing class below. The message class implements the message computation. By calling .propagate in the forward class, all messages get computed and aggregated using the chosen aggregation function of the message passing scheme.\n",
    "\n",
    "\n",
    "**Task 2**: In order to get good performance later during the lab, add a BatchNorm both after computing the linear part of the messages and after the aggregation of the messages.\n"
   ]
  },
  {
   "cell_type": "code",
   "execution_count": 8,
   "metadata": {
    "editable": true,
    "id": "n63y0fCL5CIp",
    "slideshow": {
     "slide_type": ""
    },
    "tags": []
   },
   "outputs": [],
   "source": [
    "class CGCNNLayer(pyg.nn.MessagePassing):\n",
    "    \n",
    "    def __init__(self, node_fea_dim, edge_fea_dim):\n",
    "        # choose appropiate aggregation function\n",
    "        aggregation = \"add\" # TODO: choose the aggregation as a string\n",
    "        super().__init__(aggr=aggregation)  # aggregation function of messages\n",
    "        # Batch norm is not included in the MPNN equations, but should be applied on two occasions:\n",
    "        # 1. Before the activation funtctions sigma and g are applied\n",
    "        # 2. On the message after aggregation (i.e., from whatever is returned from self.propagate)\n",
    "        #are our batch normalizing layers\n",
    "        self.bn0 = torch.nn.BatchNorm1d(node_fea_dim)\n",
    "        self.bn1 = torch.nn.BatchNorm1d(node_fea_dim)\n",
    "        self.bn2 = torch.nn.BatchNorm1d(node_fea_dim)\n",
    "        #The two linear layers with dimension 2D + 2 x D for input output dimensions\n",
    "        self.linf = torch.nn.Linear((2 * node_fea_dim) + edge_fea_dim, node_fea_dim)\n",
    "        self.lins = torch.nn.Linear((2 * node_fea_dim) + edge_fea_dim, node_fea_dim)\n",
    "\n",
    "        #our activation functions\n",
    "        self.sig = torch.nn.Sigmoid()\n",
    "        self.softplus = torch.nn.Softplus()\n",
    "\n",
    "    def forward(self, h, edge_index, edge_attr):\n",
    "        # call propagate to compute messages and aggregate them.\n",
    "        # edge_index always need to be included, then we can add names arguments that will be passed to, e.g., message\n",
    "        m = self.propagate(edge_index, h=h, e=edge_attr)\n",
    "        \n",
    "        # remember batch norm on output from propagate.\n",
    "        m = self.bn2(m)\n",
    "        \n",
    "        # TODO: implement the node update function.\n",
    "        #update was phased out but we just add whatever our message has become\n",
    "        out = h + m\n",
    "        # return the updated features.\n",
    "        return out\n",
    "\n",
    "    def message(self, h_i, h_j, e):\n",
    "        # implementation of M_t\n",
    "        # appending _i or _j to name of a variable that was passed to propagate will map it to the corresponding node\n",
    "        z = torch.cat([h_i, h_j, e], dim=1)\n",
    "        # TODO: implement the message function\n",
    "        #pass z through the linear layers\n",
    "        a1 = self.linf(z)\n",
    "        a2 = self.lins(z)\n",
    "\n",
    "        #batch normalize\n",
    "        a1 = self.bn0(a1)\n",
    "        a2 = self.bn1(a2)\n",
    "\n",
    "        #pass through activation functions\n",
    "        a1 = self.sig(a1)\n",
    "        a2 = self.softplus(a2)\n",
    "\n",
    "        #output is then element wise multiplication\n",
    "        out = torch.mul(a1,a2)\n",
    "        return out\n"
   ]
  },
  {
   "cell_type": "markdown",
   "metadata": {
    "editable": true,
    "id": "2gEVU0njEty3",
    "slideshow": {
     "slide_type": ""
    },
    "tags": []
   },
   "source": [
    "## CGCNN Network\n",
    "Now once we have implemented the layer, we can use it in a full CGCNN model. This is still a ```torch.nn.Module``` (so nothing new just because we are working with GNNs), but the layers will be instances of your ```CGCNNLayer``` from before.\n",
    "\n",
    "The forward pass through the model should compute the following steps:\n",
    "\n",
    "1. Embed the nodes into node features\n",
    "1. Iterate over the CGCNN layers\n",
    "    1. Pass through the layer\n",
    "    1. Batch norm\n",
    "    1. Activation function (for example, softplus)\n",
    "1. Pool node features using mean pooling\n",
    "1. Pass pooled representation through final MLP\n",
    "\n",
    "As this is a graph level task we need to pool the information of the nodes to a global feature representation. To perform the pooling of node features, PyG provides [pooling layers](https://pytorch-geometric.readthedocs.io/en/latest/modules/nn.html#pooling-layers). CGCNN uses mean pooling, so take a look at the documentation of [pyg.nn.pool.global_mean_pool](https://pytorch-geometric.readthedocs.io/en/latest/generated/torch_geometric.nn.pool.global_mean_pool.html#torch_geometric.nn.pool.global_mean_pool).\n",
    "\n",
    "**Task 3**: Implement the forward pass through the model in the created network."
   ]
  },
  {
   "cell_type": "code",
   "execution_count": null,
   "metadata": {
    "editable": true,
    "id": "FRHfNr_rEtb3",
    "slideshow": {
     "slide_type": ""
    },
    "tags": []
   },
   "outputs": [],
   "source": [
    "class CGCNN(torch.nn.Module):\n",
    "    \n",
    "    def __init__(self, node_fea_dim, invariant, num_layers, cutoff, max_neighbors):\n",
    "        super().__init__()\n",
    "        \n",
    "        # parameters to generate the graph from the molecular structure\n",
    "        self.cutoff = cutoff\n",
    "        self.max_neighbors = max_neighbors\n",
    "        self.pbc = False  # Keep this when using the COLL dataset\n",
    "        \n",
    "        # the invariant model uses one edge feature, the regular three.\n",
    "        if invariant:\n",
    "            edge_fea_dim = 1\n",
    "        else:\n",
    "            edge_fea_dim = 3\n",
    "        self.edge_fea_dim = edge_fea_dim\n",
    "\n",
    "        # Create an embedding layer (number of elements in embedding table=118)\n",
    "        self.embed = torch.nn.Embedding(118, node_fea_dim)\n",
    "        # Initialize the cgcnn layers, batch norm layers, and choose an activation function\n",
    "        self.cgcnn_layers = torch.nn.ModuleList([CGCNNLayer(node_fea_dim, edge_fea_dim) for _ in range(num_layers)])\n",
    "        self.bn_layers = torch.nn.ModuleList([torch.nn.BatchNorm1d(node_fea_dim) for _ in range(num_layers)])\n",
    "        self.activation = torch.nn.Softplus()\n",
    "        \n",
    "        # Pool function\n",
    "        self.pool = pyg.nn.pool.global_mean_pool\n",
    "        \n",
    "        # Create a small MLP that can take in the pooled representation, and output a prediction of the energy\n",
    "        self.out_mlp = torch.nn.Sequential(torch.nn.Linear(node_fea_dim, 2*node_fea_dim),\n",
    "                                     torch.nn.Softplus(),\n",
    "                                     torch.nn.Linear(2*node_fea_dim, 1))\n",
    "\n",
    "    def forward(self, data):\n",
    "        # For this data, we construct the graph on the fly, but it is possible for other datasets to have data.edge_index, data.edge_attr etc\n",
    "        edge_index, edge_dist, distance_vec = generate_otf_graph(data, self.cutoff, self.max_neighbors, self.pbc)\n",
    "        edge_dist = edge_dist.unsqueeze(-1)\n",
    "            \n",
    "        if self.edge_fea_dim == 1:\n",
    "            edge_attr = edge_dist\n",
    "        else:\n",
    "            edge_attr = distance_vec\n",
    "        #get the batches for the data to pass through max pooling\n",
    "        batch = data.batch\n",
    "        # TODO: implement the forward pass through the network.\n",
    "        # Hint: the atomic number is stored at data.atomic_numbers.\n",
    "        #first pass through the embedding layer\n",
    "        data = self.embed(data.atomic_numbers)\n",
    "        #pass through the cgcnn layers \n",
    "        for i in range(len(self.cgcnn_layers)):\n",
    "            # print(\"Layer i\",self.cgcnn_layers[i])\n",
    "            data = self.cgcnn_layers[i](data, edge_index, edge_attr)\n",
    "            #batch normalize\n",
    "            # print(\"Data\",data)\n",
    "            data = self.bn_layers[i](data)\n",
    "            #activation function\n",
    "            data = self.activation(data)\n",
    "        #pooling \n",
    "        data = self.pool(data, batch)\n",
    "        #pass through final mlp\n",
    "        prediction = self.out_mlp(data)\n",
    "        #squeeze data to get it to be the correct shape\n",
    "        return prediction.squeeze(-1)\n"
   ]
  },
  {
   "cell_type": "markdown",
   "metadata": {
    "editable": true,
    "slideshow": {
     "slide_type": ""
    },
    "tags": []
   },
   "source": [
    "### Invariance\n",
    "The task for the GNN in this lab is to predict the energy of the molecular system. This property is __invariant__ to any rigid transformations (i.e., rotations and/or translations) of the molecules; it does not matter if we move the molecule to a different position, or if it is rotated, it is still the same molecule with the same energy.\n",
    "\n",
    "We can make the network invariant to such transformations by using only invariant features. The input to CGCNN consists of the atom types $\\mathbf{v}$ from which the node features are constrcuted using a one-hot encoding and the atom positions $\\mathbf{Z}$. The atom types are of course invariant to translations and rotations, so it is the geometric information in $\\mathbf{Z}$ that needs consideration. CGCNN incorporates this geometric information in the edge features. Consider using as edge feature either 1) the distance between the two atoms or 2) the (three-dimensional) vector between the atoms."
   ]
  },
  {
   "cell_type": "markdown",
   "metadata": {
    "editable": true,
    "slideshow": {
     "slide_type": ""
    },
    "tags": []
   },
   "source": [
    "**Question 7:** To what transformations (rotations, translations) are these respective features invariant?\n",
    "\n",
    "**Answer**: The distance between two atoms is invariant because the distances are reduced to a number. The 3 dimension vector, however, is not invariant to these transformations because a rotation will change the direction of the values in the vector"
   ]
  },
  {
   "cell_type": "markdown",
   "metadata": {
    "editable": true,
    "slideshow": {
     "slide_type": ""
    },
    "tags": []
   },
   "source": [
    "Now let's take a look at this in practice. Load some data and use ```transform_and_visualize``` to apply a rotation and see how it looks like.\n",
    "\n",
    "**Note**: the dataset we are working on in this lab is called COLL. You do not have to implement the dataset yourself, but PyG provides a custom dataset class called ```InMemoryDataset``` in which COLL has been implemented for this lab. If you are interested in how such a dataset could be constructed, you can take a look at ```coll_data.py``` to see the implementation, and you can read more in the [PyG tutorial on creating graph datasets](https://pytorch-geometric.readthedocs.io/en/latest/tutorial/create_dataset.html)."
   ]
  },
  {
   "cell_type": "code",
   "execution_count": 10,
   "metadata": {
    "editable": true,
    "slideshow": {
     "slide_type": ""
    },
    "tags": []
   },
   "outputs": [],
   "source": [
    "def transform_and_visualize(data):\n",
    "    transformed_data = data.clone()\n",
    "    rot_vec = np.array([1.0, 1.0, 0.0])\n",
    "    rot_vec = rot_vec / np.linalg.norm(rot_vec)\n",
    "    rot_angle = np.pi/3\n",
    "    rotation_matrix = torch.tensor(Rotation.from_rotvec(rot_angle * rot_vec).as_matrix()).float()\n",
    "    transformed_data.pos = torch.matmul(transformed_data.pos, rotation_matrix)\n",
    "    fig, ax = plt.subplots(1, 2)\n",
    "    atoms = batch_to_atoms(data)\n",
    "    transformed_atoms = batch_to_atoms(transformed_data)\n",
    "\n",
    "    ase.visualize.plot.plot_atoms(atoms[0], ax[0], rotation=(\"-75x, 45y, 10z\"))\n",
    "    ase.visualize.plot.plot_atoms(transformed_atoms[0], ax[1], rotation=(\"-75x, 45y, 10z\"))\n",
    "\n",
    "    ax[0].set_title(\"Original data\")\n",
    "    ax[1].set_title(\"Rotated data\")\n",
    "    plt.show()\n",
    "    \n",
    "    return data, transformed_data"
   ]
  },
  {
   "cell_type": "code",
   "execution_count": null,
   "metadata": {
    "editable": true,
    "slideshow": {
     "slide_type": ""
    },
    "tags": []
   },
   "outputs": [
    {
     "name": "stderr",
     "output_type": "stream",
     "text": [
      "Downloading https://figshare.com/ndownloader/files/25605734\n",
      "Processing...\n",
      "Done!\n",
      "Downloading https://figshare.com/ndownloader/files/25605740\n",
      "Processing...\n",
      "Done!\n",
      "Downloading https://figshare.com/ndownloader/files/25605737\n",
      "Processing...\n",
      "Done!\n"
     ]
    },
    {
     "data": {
      "image/png": "[encoded data removed]",
      "text/plain": [
       "<Figure size 640x480 with 2 Axes>"
      ]
     },
     "metadata": {},
     "output_type": "display_data"
    }
   ],
   "source": [
    "_, loader, _ = get_coll_loaders(5)  # returns train, val, test loaders. For now just using the val loader\n",
    "\n",
    "data = next(iter(loader))\n",
    "data, transformed_data = transform_and_visualize(data)\n"
   ]
  },
  {
   "cell_type": "markdown",
   "metadata": {
    "tags": []
   },
   "source": [
    "Now try instantiating a model that uses these different edge features by setting ```edge_fea_dim=1``` (only distances) or ```edge_fea_dim=3``` (vector between atoms), and make predictions for both ```data``` and ```transformed_data```. "
   ]
  },
  {
   "cell_type": "code",
   "execution_count": 51,
   "metadata": {
    "editable": true,
    "slideshow": {
     "slide_type": ""
    },
    "tags": []
   },
   "outputs": [
    {
     "name": "stdout",
     "output_type": "stream",
     "text": [
      "Regular model:\n",
      "Output:\t\t\t tensor([0.7548, 0.8162, 0.6819, 0.7033, 0.7032]) \n",
      "Output transformed:\t tensor([0.7653, 0.8157, 0.6762, 0.7017, 0.7000])\n",
      "\n",
      "Invariant model:\n",
      "Output:\t\t\t tensor([-0.1891, -0.1390, -0.1554, -0.1603, -0.1527]) \n",
      "Output transformed:\t tensor([-0.1891, -0.1390, -0.1554, -0.1603, -0.1527])\n"
     ]
    }
   ],
   "source": [
    "# Reasonable values for cutoff and max_neighbors are 12 [Å] and 30, respectively. For now, number of layers doesn't matter\n",
    "model_ = CGCNN(32, False, 5, 12, 30)\n",
    "model_invariant = CGCNN(32, True, 5, 12, 30)\n",
    "\n",
    "# disable gradient computations here:\n",
    "with torch.no_grad():\n",
    "\n",
    "    print(\"Regular model:\")\n",
    "    print(\"Output:\\t\\t\\t\", model_(data), \"\\nOutput transformed:\\t\", model_(transformed_data))\n",
    "\n",
    "    print()\n",
    "    print(\"Invariant model:\")\n",
    "    print(\"Output:\\t\\t\\t\", model_invariant(data), \"\\nOutput transformed:\\t\", model_invariant(transformed_data))"
   ]
  },
  {
   "cell_type": "markdown",
   "metadata": {
    "tags": []
   },
   "source": [
    "**Question 8:** What do you see in the outputs? Is it what you expected?\n",
    "\n",
    "**Answer**: The output is a tensor with size number of graphs in the dataset and each output corresponds to a number. The regular model sets the distance to be the 3D vector and as such it is not invariant to transformations which is reflected in the output. While these two outputs do differ because the molecules were rotated the difference between the outputs are very small. I was expecting a large difference in outputs when the molecule was rotated. The invariant model behaved as expected and the transformed graph and original graph return the same energies."
   ]
  },
  {
   "cell_type": "markdown",
   "metadata": {
    "tags": []
   },
   "source": [
    "## Task 4: Train a CGCNN model"
   ]
  },
  {
   "cell_type": "code",
   "execution_count": 55,
   "metadata": {
    "editable": true,
    "slideshow": {
     "slide_type": ""
    },
    "tags": []
   },
   "outputs": [],
   "source": [
    "device = \"cuda\" # todo: change to cuda if you are using gpu support."
   ]
  },
  {
   "cell_type": "code",
   "execution_count": 42,
   "metadata": {
    "editable": true,
    "slideshow": {
     "slide_type": ""
    },
    "tags": []
   },
   "outputs": [],
   "source": [
    "train_loader, val_loader, test_loader = get_coll_loaders(256)"
   ]
  },
  {
   "cell_type": "code",
   "execution_count": 43,
   "metadata": {
    "editable": true,
    "slideshow": {
     "slide_type": ""
    },
    "tags": []
   },
   "outputs": [],
   "source": [
    "@torch.inference_mode()\n",
    "def validate(model, loader, device):\n",
    "    assert not model.training, \"Model is in training mode\"\n",
    "    num_samples = 0\n",
    "    total_sq_error = 0\n",
    "    total_abs_error = 0\n",
    "    \n",
    "    for i, batch in enumerate(loader):\n",
    "        batch = batch.to(device)\n",
    "        batch_size = batch.y.shape[0]\n",
    "        num_samples += batch_size\n",
    "\n",
    "        pred = model(batch)\n",
    "        mae = torch.nn.functional.l1_loss(pred, batch.y)\n",
    "        mse = torch.nn.functional.mse_loss(pred, batch.y)\n",
    "\n",
    "        total_sq_error += mse.item()*batch_size\n",
    "        total_abs_error += mae.item()*batch_size\n",
    "    \n",
    "    avg_mse = total_sq_error / num_samples\n",
    "    avg_mae = total_abs_error / num_samples\n",
    "    return avg_mse, avg_mae\n",
    "\n",
    "def train_and_test(model, optimizer, loss_fn, train_loader, val_loader, num_epochs=10, device=\"cuda\", save_name=\"best_parameters.pt\", test_loader=None):\n",
    "    model = model.to(device)\n",
    "    model.train(True)\n",
    "    best_val_error = 1e9\n",
    "\n",
    "    for epoch in range(num_epochs):\n",
    "        epoch_losses = []\n",
    "        for i, batch in enumerate(train_loader):\n",
    "            optimizer.zero_grad()\n",
    "            batch = batch.to(device)\n",
    "\n",
    "            pred = model(batch)\n",
    "            loss = loss_fn(pred, batch.y)\n",
    "            \n",
    "            loss.backward()\n",
    "            optimizer.step()\n",
    "            epoch_losses.append(loss.item())\n",
    "        \n",
    "        mean_epoch_loss = np.mean(epoch_losses)\n",
    "        print(f\"Epoch {epoch+1} training loss: \\t {mean_epoch_loss:.4f}\")\n",
    "\n",
    "        # Validation\n",
    "        model.train(False)\n",
    "        val_mse, val_mae = validate(model, val_loader, device) \n",
    "        print(f\"Epoch {epoch+1} validation MSE: {val_mse:.4f} \\t MAE: {val_mae:.4f}\")\n",
    "        if val_mae < best_val_error:  # we choose MAE as preferred metric\n",
    "            torch.save(model.state_dict(), save_name)  # save these model parameters\n",
    "            best_val_error = val_mae\n",
    "        model.train(True)\n",
    "    \n",
    "    print(\"Training finished!\")\n",
    "    model.train(False)\n",
    "    \n",
    "    if test_loader is not None:\n",
    "        print(\"Evaluating on test set\")\n",
    "        model.load_state_dict(torch.load(save_name, weights_only=False))  # load best parameters, based on validation error (early stopping)\n",
    "        test_mse, test_mae = validate(model, test_loader, device)\n",
    "        print(f\"Final test MSE: {test_mse:.4f}, \\t MAE {test_mae:.4f}\")"
   ]
  },
  {
   "cell_type": "markdown",
   "metadata": {
    "editable": true,
    "slideshow": {
     "slide_type": ""
    },
    "tags": []
   },
   "source": [
    "### Invariant model\n",
    "Now it is time to train a model. Start with a completely invariant model (```edge_fea_dim=1```). After loading the data, initialize your model, choose an optimizer and loss function."
   ]
  },
  {
   "cell_type": "code",
   "execution_count": 52,
   "metadata": {
    "editable": true,
    "slideshow": {
     "slide_type": ""
    },
    "tags": []
   },
   "outputs": [
    {
     "name": "stdout",
     "output_type": "stream",
     "text": [
      "Epoch 1 training loss: \t 1.2064\n",
      "Epoch 1 validation MSE: 0.0977 \t MAE: 0.2021\n",
      "Epoch 2 training loss: \t 0.1940\n",
      "Epoch 2 validation MSE: 0.0917 \t MAE: 0.1976\n",
      "Epoch 3 training loss: \t 0.1855\n",
      "Epoch 3 validation MSE: 0.0916 \t MAE: 0.2016\n",
      "Epoch 4 training loss: \t 0.1798\n",
      "Epoch 4 validation MSE: 0.0790 \t MAE: 0.1780\n",
      "Epoch 5 training loss: \t 0.1751\n",
      "Epoch 5 validation MSE: 0.0826 \t MAE: 0.1969\n",
      "Epoch 6 training loss: \t 0.1719\n",
      "Epoch 6 validation MSE: 0.0736 \t MAE: 0.1712\n",
      "Epoch 7 training loss: \t 0.1694\n",
      "Epoch 7 validation MSE: 0.0705 \t MAE: 0.1668\n",
      "Epoch 8 training loss: \t 0.1672\n",
      "Epoch 8 validation MSE: 0.0715 \t MAE: 0.1710\n",
      "Epoch 9 training loss: \t 0.1651\n",
      "Epoch 9 validation MSE: 0.0773 \t MAE: 0.1831\n",
      "Epoch 10 training loss: \t 0.1636\n",
      "Epoch 10 validation MSE: 0.0667 \t MAE: 0.1635\n",
      "Epoch 11 training loss: \t 0.1623\n",
      "Epoch 11 validation MSE: 0.0709 \t MAE: 0.1751\n",
      "Epoch 12 training loss: \t 0.1606\n",
      "Epoch 12 validation MSE: 0.0666 \t MAE: 0.1650\n",
      "Epoch 13 training loss: \t 0.1594\n",
      "Epoch 13 validation MSE: 0.0631 \t MAE: 0.1590\n",
      "Epoch 14 training loss: \t 0.1588\n",
      "Epoch 14 validation MSE: 0.0635 \t MAE: 0.1600\n",
      "Epoch 15 training loss: \t 0.1571\n",
      "Epoch 15 validation MSE: 0.0624 \t MAE: 0.1606\n",
      "Epoch 16 training loss: \t 0.1564\n",
      "Epoch 16 validation MSE: 0.0614 \t MAE: 0.1587\n",
      "Epoch 17 training loss: \t 0.1549\n",
      "Epoch 17 validation MSE: 0.0625 \t MAE: 0.1617\n",
      "Epoch 18 training loss: \t 0.1543\n",
      "Epoch 18 validation MSE: 0.0598 \t MAE: 0.1547\n",
      "Epoch 19 training loss: \t 0.1533\n",
      "Epoch 19 validation MSE: 0.0598 \t MAE: 0.1541\n",
      "Epoch 20 training loss: \t 0.1523\n",
      "Epoch 20 validation MSE: 0.0631 \t MAE: 0.1661\n",
      "Epoch 21 training loss: \t 0.1513\n",
      "Epoch 21 validation MSE: 0.0586 \t MAE: 0.1595\n",
      "Epoch 22 training loss: \t 0.1506\n",
      "Epoch 22 validation MSE: 0.0568 \t MAE: 0.1549\n",
      "Epoch 23 training loss: \t 0.1499\n",
      "Epoch 23 validation MSE: 0.0576 \t MAE: 0.1533\n",
      "Epoch 24 training loss: \t 0.1486\n",
      "Epoch 24 validation MSE: 0.0575 \t MAE: 0.1523\n",
      "Epoch 25 training loss: \t 0.1483\n",
      "Epoch 25 validation MSE: 0.0561 \t MAE: 0.1527\n",
      "Epoch 26 training loss: \t 0.1468\n",
      "Epoch 26 validation MSE: 0.0587 \t MAE: 0.1588\n",
      "Epoch 27 training loss: \t 0.1470\n",
      "Epoch 27 validation MSE: 0.0560 \t MAE: 0.1572\n",
      "Epoch 28 training loss: \t 0.1449\n",
      "Epoch 28 validation MSE: 0.0538 \t MAE: 0.1525\n",
      "Epoch 29 training loss: \t 0.1449\n",
      "Epoch 29 validation MSE: 0.0597 \t MAE: 0.1659\n",
      "Epoch 30 training loss: \t 0.1446\n",
      "Epoch 30 validation MSE: 0.0523 \t MAE: 0.1451\n",
      "Training finished!\n",
      "Evaluating on test set\n",
      "Final test MSE: 0.0484, \t MAE 0.1411\n"
     ]
    }
   ],
   "source": [
    "# Reasonable values for cutoff and max_neighbors are 12 [Å] and 30 max neighbours, respectively.\n",
    "model_inv = CGCNN(node_fea_dim=32, invariant=True, num_layers=3, cutoff=12, max_neighbors=30)\n",
    "\n",
    "# choose optimizer and loss function.\n",
    "optimizer = torch.optim.AdamW(model_inv.parameters(), lr=0.0001)\n",
    "loss_fn = torch.nn.L1Loss()\n",
    "\n",
    "# run the training loop.\n",
    "train_and_test(model_inv, optimizer, loss_fn, train_loader, val_loader, 30, device, \"best_parameters_invariant.pt\", test_loader)"
   ]
  },
  {
   "cell_type": "markdown",
   "metadata": {
    "tags": []
   },
   "source": [
    "### Not using an invariant model\n",
    "Now compare this to a model that is not completely invariant (i.e., ```edge_fea_dim=3```)"
   ]
  },
  {
   "cell_type": "code",
   "execution_count": 56,
   "metadata": {
    "editable": true,
    "slideshow": {
     "slide_type": ""
    },
    "tags": []
   },
   "outputs": [
    {
     "name": "stdout",
     "output_type": "stream",
     "text": [
      "Epoch 1 training loss: \t 1.7270\n",
      "Epoch 1 validation MSE: 0.1154 \t MAE: 0.2332\n",
      "Epoch 2 training loss: \t 0.2067\n",
      "Epoch 2 validation MSE: 0.1032 \t MAE: 0.2191\n",
      "Epoch 3 training loss: \t 0.2010\n",
      "Epoch 3 validation MSE: 0.0969 \t MAE: 0.2012\n",
      "Epoch 4 training loss: \t 0.1981\n",
      "Epoch 4 validation MSE: 0.0951 \t MAE: 0.1999\n",
      "Epoch 5 training loss: \t 0.1958\n",
      "Epoch 5 validation MSE: 0.0917 \t MAE: 0.1957\n"
     ]
    },
    {
     "ename": "KeyboardInterrupt",
     "evalue": "",
     "output_type": "error",
     "traceback": [
      "\u001b[1;31m---------------------------------------------------------------------------\u001b[0m",
      "\u001b[1;31mKeyboardInterrupt\u001b[0m                         Traceback (most recent call last)",
      "Cell \u001b[1;32mIn[56], line 7\u001b[0m\n\u001b[0;32m      4\u001b[0m optimizer \u001b[38;5;241m=\u001b[39m torch\u001b[38;5;241m.\u001b[39moptim\u001b[38;5;241m.\u001b[39mAdamW(model\u001b[38;5;241m.\u001b[39mparameters(), lr\u001b[38;5;241m=\u001b[39m\u001b[38;5;241m0.0001\u001b[39m)\n\u001b[0;32m      5\u001b[0m loss_fn \u001b[38;5;241m=\u001b[39m torch\u001b[38;5;241m.\u001b[39mnn\u001b[38;5;241m.\u001b[39mL1Loss()\n\u001b[1;32m----> 7\u001b[0m train_and_test(model, optimizer, loss_fn, train_loader, val_loader, \u001b[38;5;241m30\u001b[39m, device, \u001b[38;5;124m\"\u001b[39m\u001b[38;5;124mbest_parameters_non_invariant.pt\u001b[39m\u001b[38;5;124m\"\u001b[39m, test_loader)\n",
      "Cell \u001b[1;32mIn[43], line 38\u001b[0m, in \u001b[0;36mtrain_and_test\u001b[1;34m(model, optimizer, loss_fn, train_loader, val_loader, num_epochs, device, save_name, test_loader)\u001b[0m\n\u001b[0;32m     35\u001b[0m pred \u001b[38;5;241m=\u001b[39m model(batch)\n\u001b[0;32m     36\u001b[0m loss \u001b[38;5;241m=\u001b[39m loss_fn(pred, batch\u001b[38;5;241m.\u001b[39my)\n\u001b[1;32m---> 38\u001b[0m loss\u001b[38;5;241m.\u001b[39mbackward()\n\u001b[0;32m     39\u001b[0m optimizer\u001b[38;5;241m.\u001b[39mstep()\n\u001b[0;32m     40\u001b[0m epoch_losses\u001b[38;5;241m.\u001b[39mappend(loss\u001b[38;5;241m.\u001b[39mitem())\n",
      "File \u001b[1;32mc:\\Users\\caleb\\anaconda3\\Lib\\site-packages\\torch\\_tensor.py:581\u001b[0m, in \u001b[0;36mTensor.backward\u001b[1;34m(self, gradient, retain_graph, create_graph, inputs)\u001b[0m\n\u001b[0;32m    571\u001b[0m \u001b[38;5;28;01mif\u001b[39;00m has_torch_function_unary(\u001b[38;5;28mself\u001b[39m):\n\u001b[0;32m    572\u001b[0m     \u001b[38;5;28;01mreturn\u001b[39;00m handle_torch_function(\n\u001b[0;32m    573\u001b[0m         Tensor\u001b[38;5;241m.\u001b[39mbackward,\n\u001b[0;32m    574\u001b[0m         (\u001b[38;5;28mself\u001b[39m,),\n\u001b[1;32m   (...)\u001b[0m\n\u001b[0;32m    579\u001b[0m         inputs\u001b[38;5;241m=\u001b[39minputs,\n\u001b[0;32m    580\u001b[0m     )\n\u001b[1;32m--> 581\u001b[0m torch\u001b[38;5;241m.\u001b[39mautograd\u001b[38;5;241m.\u001b[39mbackward(\n\u001b[0;32m    582\u001b[0m     \u001b[38;5;28mself\u001b[39m, gradient, retain_graph, create_graph, inputs\u001b[38;5;241m=\u001b[39minputs\n\u001b[0;32m    583\u001b[0m )\n",
      "File \u001b[1;32mc:\\Users\\caleb\\anaconda3\\Lib\\site-packages\\torch\\autograd\\__init__.py:347\u001b[0m, in \u001b[0;36mbackward\u001b[1;34m(tensors, grad_tensors, retain_graph, create_graph, grad_variables, inputs)\u001b[0m\n\u001b[0;32m    342\u001b[0m     retain_graph \u001b[38;5;241m=\u001b[39m create_graph\n\u001b[0;32m    344\u001b[0m \u001b[38;5;66;03m# The reason we repeat the same comment below is that\u001b[39;00m\n\u001b[0;32m    345\u001b[0m \u001b[38;5;66;03m# some Python versions print out the first line of a multi-line function\u001b[39;00m\n\u001b[0;32m    346\u001b[0m \u001b[38;5;66;03m# calls in the traceback and some print out the last line\u001b[39;00m\n\u001b[1;32m--> 347\u001b[0m _engine_run_backward(\n\u001b[0;32m    348\u001b[0m     tensors,\n\u001b[0;32m    349\u001b[0m     grad_tensors_,\n\u001b[0;32m    350\u001b[0m     retain_graph,\n\u001b[0;32m    351\u001b[0m     create_graph,\n\u001b[0;32m    352\u001b[0m     inputs,\n\u001b[0;32m    353\u001b[0m     allow_unreachable\u001b[38;5;241m=\u001b[39m\u001b[38;5;28;01mTrue\u001b[39;00m,\n\u001b[0;32m    354\u001b[0m     accumulate_grad\u001b[38;5;241m=\u001b[39m\u001b[38;5;28;01mTrue\u001b[39;00m,\n\u001b[0;32m    355\u001b[0m )\n",
      "File \u001b[1;32mc:\\Users\\caleb\\anaconda3\\Lib\\site-packages\\torch\\autograd\\graph.py:825\u001b[0m, in \u001b[0;36m_engine_run_backward\u001b[1;34m(t_outputs, *args, **kwargs)\u001b[0m\n\u001b[0;32m    823\u001b[0m     unregister_hooks \u001b[38;5;241m=\u001b[39m _register_logging_hooks_on_whole_graph(t_outputs)\n\u001b[0;32m    824\u001b[0m \u001b[38;5;28;01mtry\u001b[39;00m:\n\u001b[1;32m--> 825\u001b[0m     \u001b[38;5;28;01mreturn\u001b[39;00m Variable\u001b[38;5;241m.\u001b[39m_execution_engine\u001b[38;5;241m.\u001b[39mrun_backward(  \u001b[38;5;66;03m# Calls into the C++ engine to run the backward pass\u001b[39;00m\n\u001b[0;32m    826\u001b[0m         t_outputs, \u001b[38;5;241m*\u001b[39margs, \u001b[38;5;241m*\u001b[39m\u001b[38;5;241m*\u001b[39mkwargs\n\u001b[0;32m    827\u001b[0m     )  \u001b[38;5;66;03m# Calls into the C++ engine to run the backward pass\u001b[39;00m\n\u001b[0;32m    828\u001b[0m \u001b[38;5;28;01mfinally\u001b[39;00m:\n\u001b[0;32m    829\u001b[0m     \u001b[38;5;28;01mif\u001b[39;00m attach_logging_hooks:\n",
      "\u001b[1;31mKeyboardInterrupt\u001b[0m: "
     ]
    }
   ],
   "source": [
    "# use same setup as before, only change type of edge features\n",
    "model = CGCNN(node_fea_dim=32, invariant=False, num_layers=3, cutoff=12, max_neighbors=30)\n",
    "\n",
    "optimizer = torch.optim.AdamW(model.parameters(), lr=0.0001)\n",
    "loss_fn = torch.nn.L1Loss()\n",
    "\n",
    "train_and_test(model, optimizer, loss_fn, train_loader, val_loader, 30, device, \"best_parameters_non_invariant.pt\", test_loader)"
   ]
  },
  {
   "cell_type": "markdown",
   "metadata": {
    "editable": true,
    "slideshow": {
     "slide_type": ""
    },
    "tags": []
   },
   "source": [
    "**Question 9:** Do you see any differences in performance compared to the invariant model? Why do you think that is the case?\n",
    "\n",
    "**Answer**:"
   ]
  },
  {
   "cell_type": "markdown",
   "metadata": {
    "editable": true,
    "slideshow": {
     "slide_type": ""
    },
    "tags": []
   },
   "source": [
    "**Question 10:** In this case we could make the model invariant by design. If that is not possible, could you think of some other option(s) for making a model more robust to transformations of the input? (Apart from transformations discussed in this lab, another example could be to make a CNN robust to rotations of an image, e.g., a cat is always a cat, even if it is upside down)\n",
    "\n",
    "**Answer**: "
   ]
  },
  {
   "cell_type": "markdown",
   "metadata": {
    "tags": []
   },
   "source": [
    "Now, we can use the trained model in order to predict the energy of the molecule: below there are three molecules and their rotated version. For each of the samples we can print the predictions obtained from our two different models and compare them to the ground truth.\n",
    "\n",
    "**Task**: Apply the trained models to some of the test datapoints and compare the predicted energy level to the ground truth. You can also check the performance on the transformed data to observe the different behavior of the models on this."
   ]
  },
  {
   "cell_type": "code",
   "execution_count": null,
   "metadata": {
    "editable": true,
    "slideshow": {
     "slide_type": ""
    },
    "tags": []
   },
   "outputs": [],
   "source": [
    "_, _, test_loader = get_coll_loaders(10)  # returns train, val, test loaders. only take the test data\n",
    "\n",
    "data = next(iter(test_loader))\n",
    "data, transformed_data = transform_and_visualize(data)"
   ]
  },
  {
   "cell_type": "code",
   "execution_count": null,
   "metadata": {
    "editable": true,
    "slideshow": {
     "slide_type": ""
    },
    "tags": []
   },
   "outputs": [],
   "source": [
    "# choose the sample from the batch (batch_size = 10)\n",
    "i = 0\n",
    "\n",
    "# compare the prediction with the true label\n",
    "print(\"Predicted energy regular model:\\t\\t\", model(data)[i].item())\n",
    "print(\"Predicted energy invariant model:\\t\", model_inv(data)[i].item())\n",
    "print()\n",
    "print(\"True energy of molecule:\\t\\t\", data.y[i].item())"
   ]
  },
  {
   "cell_type": "markdown",
   "metadata": {
    "editable": true,
    "slideshow": {
     "slide_type": ""
    },
    "tags": []
   },
   "source": [
    "## Summary & outlook\n",
    "\n",
    "In this lab, you have seen how to implement a simple GNN architecture using pytorch-geometric. We then applied the GNN to predict the free energy of a molecule graph. Based on the spatial positions of the atoms in the molecule we implemented different edge features with different invariance features. During the training of the final model we have seen that designing architectures that are themselves invariant to transformations can help as the network does not need to re-learn the relationships."
   ]
  }
 ],
 "metadata": {
  "colab": {
   "provenance": []
  },
  "kernelspec": {
   "display_name": "base",
   "language": "python",
   "name": "python3"
  },
  "language_info": {
   "codemirror_mode": {
    "name": "ipython",
    "version": 3
   },
   "file_extension": ".py",
   "mimetype": "text/x-python",
   "name": "python",
   "nbconvert_exporter": "python",
   "pygments_lexer": "ipython3",
   "version": "3.12.4"
  }
 },
 "nbformat": 4,
 "nbformat_minor": 4
}
